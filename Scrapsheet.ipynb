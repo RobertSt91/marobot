{
 "cells": [
  {
   "cell_type": "code",
   "execution_count": 103,
   "metadata": {},
   "outputs": [],
   "source": [
    "import pandas as pd\n",
    "import datetime\n",
    "import ccxt"
   ]
  },
  {
   "cell_type": "code",
   "execution_count": 104,
   "metadata": {},
   "outputs": [
    {
     "name": "stdout",
     "output_type": "stream",
     "text": [
      "['ace', 'alpaca', 'ascendex', 'bequant', 'bigone', 'binance', 'binancecoinm', 'binanceus', 'binanceusdm', 'bingx', 'bit2c', 'bitbank', 'bitbay', 'bitbns', 'bitcoincom', 'bitfinex', 'bitfinex2', 'bitflyer', 'bitforex', 'bitget', 'bithumb', 'bitmart', 'bitmex', 'bitopro', 'bitpanda', 'bitrue', 'bitso', 'bitstamp', 'bitstamp1', 'bittrex', 'bitvavo', 'bl3p', 'blockchaincom', 'btcalpha', 'btcbox', 'btcmarkets', 'btctradeua', 'btcturk', 'bybit', 'cex', 'coinbase', 'coinbaseprime', 'coinbasepro', 'coincheck', 'coinex', 'coinfalcon', 'coinmate', 'coinone', 'coinsph', 'coinspot', 'cryptocom', 'currencycom', 'delta', 'deribit', 'digifinex', 'exmo', 'fmfwio', 'gate', 'gateio', 'gemini', 'hitbtc', 'hitbtc3', 'hollaex', 'huobi', 'huobijp', 'huobipro', 'idex', 'independentreserve', 'indodax', 'kraken', 'krakenfutures', 'kucoin', 'kucoinfutures', 'kuna', 'latoken', 'lbank', 'lbank2', 'luno', 'lykke', 'mercado', 'mexc', 'mexc3', 'ndax', 'novadax', 'oceanex', 'okcoin', 'okex', 'okex5', 'okx', 'paymium', 'phemex', 'poloniex', 'poloniexfutures', 'probit', 'tidex', 'timex', 'tokocrypto', 'upbit', 'wavesexchange', 'wazirx', 'whitebit', 'woo', 'yobit', 'zaif', 'zonda']\n"
     ]
    }
   ],
   "source": [
    "print(ccxt.exchanges)"
   ]
  },
  {
   "cell_type": "code",
   "execution_count": 105,
   "metadata": {},
   "outputs": [],
   "source": [
    "exchange = ccxt.binance()"
   ]
  },
  {
   "cell_type": "code",
   "execution_count": 106,
   "metadata": {},
   "outputs": [],
   "source": [
    "# Retrieve trading pairs\n",
    "markets = exchange.load_markets()\n",
    "\n",
    "# Create a DataFrame from the list of trading pairs\n",
    "df_currencies = pd.DataFrame(list(markets.values()))"
   ]
  },
  {
   "cell_type": "code",
   "execution_count": 107,
   "metadata": {},
   "outputs": [],
   "source": [
    "# If you want to modify the original DataFrame in-place to remove rows not equal to 'EUR', you can do:\n",
    "df_currencies = df_currencies[df_currencies['quote'] == 'USD']\n",
    "df_currencies = df_currencies[df_currencies['type'] == 'swap']\n",
    "\n",
    "# If you want to reset the index after dropping rows, you can use the reset_index method:\n",
    "df_currencies = df_currencies.reset_index(drop=True)\n",
    "df_currencies.head()\n",
    "df_currencies.to_excel('Test.xlsx')"
   ]
  },
  {
   "cell_type": "code",
   "execution_count": 108,
   "metadata": {},
   "outputs": [
    {
     "data": {
      "text/plain": [
       "count              41\n",
       "unique             41\n",
       "top       BTCUSD_PERP\n",
       "freq                1\n",
       "Name: id, dtype: object"
      ]
     },
     "execution_count": 108,
     "metadata": {},
     "output_type": "execute_result"
    }
   ],
   "source": [
    "df_currencies['id'].describe()"
   ]
  },
  {
   "cell_type": "code",
   "execution_count": 109,
   "metadata": {},
   "outputs": [
    {
     "data": {
      "text/plain": [
       "Index(['id', 'symbol', 'base', 'quote', 'baseId', 'quoteId', 'active', 'type',\n",
       "       'linear', 'inverse', 'spot', 'swap', 'future', 'option', 'margin',\n",
       "       'contract', 'contractSize', 'expiry', 'expiryDatetime', 'optionType',\n",
       "       'strike', 'settle', 'settleId', 'precision', 'limits', 'info',\n",
       "       'percentage', 'feeSide', 'tierBased', 'taker', 'maker', 'lowercaseId',\n",
       "       'created'],\n",
       "      dtype='object')"
      ]
     },
     "execution_count": 109,
     "metadata": {},
     "output_type": "execute_result"
    }
   ],
   "source": [
    "df_currencies.columns"
   ]
  },
  {
   "cell_type": "markdown",
   "metadata": {},
   "source": [
    "Retrieval of Data in a set period"
   ]
  },
  {
   "cell_type": "code",
   "execution_count": 149,
   "metadata": {},
   "outputs": [
    {
     "data": {
      "text/html": [
       "<div>\n",
       "<style scoped>\n",
       "    .dataframe tbody tr th:only-of-type {\n",
       "        vertical-align: middle;\n",
       "    }\n",
       "\n",
       "    .dataframe tbody tr th {\n",
       "        vertical-align: top;\n",
       "    }\n",
       "\n",
       "    .dataframe thead th {\n",
       "        text-align: right;\n",
       "    }\n",
       "</style>\n",
       "<table border=\"1\" class=\"dataframe\">\n",
       "  <thead>\n",
       "    <tr style=\"text-align: right;\">\n",
       "      <th></th>\n",
       "      <th>Timestamp</th>\n",
       "      <th>XRP/USD_Open</th>\n",
       "      <th>XRP/USD_Volume</th>\n",
       "      <th>BTC/USDT_Open</th>\n",
       "      <th>BTC/USDT_Volume</th>\n",
       "      <th>ETH/USDT_Open</th>\n",
       "      <th>ETH/USDT_Volume</th>\n",
       "    </tr>\n",
       "  </thead>\n",
       "  <tbody>\n",
       "    <tr>\n",
       "      <th>0</th>\n",
       "      <td>2023-11-05 00:00:00</td>\n",
       "      <td>0.6153</td>\n",
       "      <td>2.165472e+06</td>\n",
       "      <td>35062.06</td>\n",
       "      <td>85.63070</td>\n",
       "      <td>1855.54</td>\n",
       "      <td>1358.9693</td>\n",
       "    </tr>\n",
       "    <tr>\n",
       "      <th>1</th>\n",
       "      <td>2023-11-05 00:05:00</td>\n",
       "      <td>0.6172</td>\n",
       "      <td>3.974041e+05</td>\n",
       "      <td>35062.67</td>\n",
       "      <td>227.90551</td>\n",
       "      <td>1855.86</td>\n",
       "      <td>1184.8158</td>\n",
       "    </tr>\n",
       "    <tr>\n",
       "      <th>2</th>\n",
       "      <td>2023-11-05 00:10:00</td>\n",
       "      <td>0.6156</td>\n",
       "      <td>3.325032e+05</td>\n",
       "      <td>34984.61</td>\n",
       "      <td>149.21091</td>\n",
       "      <td>1852.52</td>\n",
       "      <td>2083.0947</td>\n",
       "    </tr>\n",
       "    <tr>\n",
       "      <th>3</th>\n",
       "      <td>2023-11-05 00:15:00</td>\n",
       "      <td>0.6152</td>\n",
       "      <td>1.525337e+05</td>\n",
       "      <td>34954.68</td>\n",
       "      <td>86.68269</td>\n",
       "      <td>1849.84</td>\n",
       "      <td>1845.0800</td>\n",
       "    </tr>\n",
       "    <tr>\n",
       "      <th>4</th>\n",
       "      <td>2023-11-05 00:20:00</td>\n",
       "      <td>0.6156</td>\n",
       "      <td>1.379040e+05</td>\n",
       "      <td>34987.66</td>\n",
       "      <td>52.93652</td>\n",
       "      <td>1851.35</td>\n",
       "      <td>715.5087</td>\n",
       "    </tr>\n",
       "    <tr>\n",
       "      <th>...</th>\n",
       "      <td>...</td>\n",
       "      <td>...</td>\n",
       "      <td>...</td>\n",
       "      <td>...</td>\n",
       "      <td>...</td>\n",
       "      <td>...</td>\n",
       "      <td>...</td>\n",
       "    </tr>\n",
       "    <tr>\n",
       "      <th>284</th>\n",
       "      <td>2023-11-05 23:40:00</td>\n",
       "      <td>0.6587</td>\n",
       "      <td>4.928876e+05</td>\n",
       "      <td>35090.49</td>\n",
       "      <td>61.16640</td>\n",
       "      <td>1894.89</td>\n",
       "      <td>361.0531</td>\n",
       "    </tr>\n",
       "    <tr>\n",
       "      <th>285</th>\n",
       "      <td>2023-11-05 23:45:00</td>\n",
       "      <td>0.6573</td>\n",
       "      <td>3.249769e+05</td>\n",
       "      <td>35054.12</td>\n",
       "      <td>56.16209</td>\n",
       "      <td>1893.15</td>\n",
       "      <td>662.9720</td>\n",
       "    </tr>\n",
       "    <tr>\n",
       "      <th>286</th>\n",
       "      <td>2023-11-05 23:50:00</td>\n",
       "      <td>0.6581</td>\n",
       "      <td>1.218070e+06</td>\n",
       "      <td>35034.63</td>\n",
       "      <td>45.59568</td>\n",
       "      <td>1893.23</td>\n",
       "      <td>375.1390</td>\n",
       "    </tr>\n",
       "    <tr>\n",
       "      <th>287</th>\n",
       "      <td>2023-11-05 23:55:00</td>\n",
       "      <td>0.6605</td>\n",
       "      <td>1.301163e+06</td>\n",
       "      <td>35026.71</td>\n",
       "      <td>44.58570</td>\n",
       "      <td>1892.94</td>\n",
       "      <td>937.3415</td>\n",
       "    </tr>\n",
       "    <tr>\n",
       "      <th>288</th>\n",
       "      <td>2023-11-06 00:00:00</td>\n",
       "      <td>0.6613</td>\n",
       "      <td>9.618538e+05</td>\n",
       "      <td>35011.89</td>\n",
       "      <td>240.45271</td>\n",
       "      <td>1891.71</td>\n",
       "      <td>1636.3869</td>\n",
       "    </tr>\n",
       "  </tbody>\n",
       "</table>\n",
       "<p>289 rows × 7 columns</p>\n",
       "</div>"
      ],
      "text/plain": [
       "              Timestamp  XRP/USD_Open  XRP/USD_Volume  BTC/USDT_Open  \\\n",
       "0   2023-11-05 00:00:00        0.6153    2.165472e+06       35062.06   \n",
       "1   2023-11-05 00:05:00        0.6172    3.974041e+05       35062.67   \n",
       "2   2023-11-05 00:10:00        0.6156    3.325032e+05       34984.61   \n",
       "3   2023-11-05 00:15:00        0.6152    1.525337e+05       34954.68   \n",
       "4   2023-11-05 00:20:00        0.6156    1.379040e+05       34987.66   \n",
       "..                  ...           ...             ...            ...   \n",
       "284 2023-11-05 23:40:00        0.6587    4.928876e+05       35090.49   \n",
       "285 2023-11-05 23:45:00        0.6573    3.249769e+05       35054.12   \n",
       "286 2023-11-05 23:50:00        0.6581    1.218070e+06       35034.63   \n",
       "287 2023-11-05 23:55:00        0.6605    1.301163e+06       35026.71   \n",
       "288 2023-11-06 00:00:00        0.6613    9.618538e+05       35011.89   \n",
       "\n",
       "     BTC/USDT_Volume  ETH/USDT_Open  ETH/USDT_Volume  \n",
       "0           85.63070        1855.54        1358.9693  \n",
       "1          227.90551        1855.86        1184.8158  \n",
       "2          149.21091        1852.52        2083.0947  \n",
       "3           86.68269        1849.84        1845.0800  \n",
       "4           52.93652        1851.35         715.5087  \n",
       "..               ...            ...              ...  \n",
       "284         61.16640        1894.89         361.0531  \n",
       "285         56.16209        1893.15         662.9720  \n",
       "286         45.59568        1893.23         375.1390  \n",
       "287         44.58570        1892.94         937.3415  \n",
       "288        240.45271        1891.71        1636.3869  \n",
       "\n",
       "[289 rows x 7 columns]"
      ]
     },
     "execution_count": 149,
     "metadata": {},
     "output_type": "execute_result"
    }
   ],
   "source": [
    "# Define a list of trading pairs\n",
    "symbols = ['XRP/USD', 'BTC/USDT', 'ETH/USDT']  # Replace with your desired list of trading pairs\n",
    "\n",
    "# Specify the timeframe\n",
    "timeframe = '5m'  # Replace with the desired timeframe\n",
    "\n",
    "start_date = exchange.parse8601('2023-11-05T00:00:00Z')  # Start date in ISO8601 format\n",
    "end_date = exchange.parse8601('2023-11-06T00:00:00Z')  # End date in ISO8601 format\n",
    "\n",
    "limit = 1000  # Number of data points to fetch per request\n",
    "\n",
    "# Create an empty DataFrame to store the data\n",
    "df = pd.DataFrame()\n",
    "\n",
    "while start_date < end_date:\n",
    "    data_available = False  # Flag to check if data is available for at least one symbol\n",
    "    max_timestamp = None  # To keep track of the maximum timestamp\n",
    "    \n",
    "    for symbol in symbols:\n",
    "        # Calculate the end timestamp for this data request\n",
    "        end_timestamp = min(start_date + limit * 300 * 1000, end_date)\n",
    "        \n",
    "        # Fetch the OHLCV data for each trading pair within the specified date range\n",
    "        ohlcv = exchange.fetch_ohlcv(symbol, timeframe, start_date, limit, params={'endTime': end_timestamp})\n",
    "        \n",
    "        if ohlcv:\n",
    "            data_available = True  # Data is available for at least one symbol\n",
    "            \n",
    "            # Extract the 'Open' and 'Volume' values and store them in a DataFrame\n",
    "            open_values = [candle[1] for candle in ohlcv]\n",
    "            volume_values = [candle[5] for candle in ohlcv]\n",
    "            \n",
    "            # Create a DataFrame for the current pair\n",
    "            df_pair = pd.DataFrame({\n",
    "                'Timestamp': [candle[0] for candle in ohlcv],\n",
    "                f'{symbol}_Open': open_values,  # Rename the open column\n",
    "                f'{symbol}_Volume': volume_values  # Create a new volume column\n",
    "            })\n",
    "            \n",
    "            if df.empty:\n",
    "                df = df_pair\n",
    "            else:\n",
    "                # Merge the DataFrames on the 'Timestamp' column with specified suffixes\n",
    "                df = df.merge(df_pair, on='Timestamp', how='outer', suffixes=('', f'_{symbol}'))\n",
    "            \n",
    "            # Update the maximum timestamp for all pairs\n",
    "            max_symbol_timestamp = ohlcv[-1][0]\n",
    "            if max_timestamp is None or max_symbol_timestamp > max_timestamp:\n",
    "                max_timestamp = max_symbol_timestamp\n",
    "        \n",
    "    # Update the start time for the next request\n",
    "    start_date = max_timestamp + 1\n",
    "    \n",
    "    # Check if there are more data points to fetch, if not, exit the loop\n",
    "    if not data_available or start_date >= end_date:\n",
    "        break\n",
    "\n",
    "# Sort the DataFrame by 'Timestamp'\n",
    "df.sort_values(by='Timestamp', inplace=True)\n",
    "\n",
    "# Convert the 'Timestamp' column to datetime\n",
    "df['Timestamp'] = pd.to_datetime(df['Timestamp'], unit='ms')\n",
    "\n",
    "# Reset the index\n",
    "df.reset_index(drop=True, inplace=True)\n",
    "\n",
    "# Export the DataFrame to an Excel file\n",
    "df.to_excel('Pair Data.xlsx')\n",
    "\n",
    "df"
   ]
  },
  {
   "cell_type": "markdown",
   "metadata": {},
   "source": [
    "The choice of a time frame for a momentum trading bot depends on your trading strategy, risk tolerance, and the assets you are trading. Different time frames offer different trade-offs, and there is no one-size-fits-all answer. Here are some considerations for selecting a time frame:\n",
    "\n",
    "1-Minute (or Less) Time Frame:\n",
    "- Very short time frames like 1 minute are often used by high-frequency traders (HFT) and algorithmic trading systems that execute many trades in a short time. They require low latency and advanced infrastructure.\n",
    "- High-frequency trading is associated with increased transaction costs, such as trading fees and potential slippage, and may not be suitable for all traders.\n",
    "- The price action can be more erratic, making it challenging to identify meaningful trends, and there's a risk of \"noise\" in the data.\n",
    "  \n",
    "Shorter Time Frames (5-Minute, 15-Minute, 30-Minute):\n",
    "- These time frames are often used by day traders and short-term momentum traders.\n",
    "- They allow for more trades throughout the day but still require careful risk management due to the rapid price changes.\n",
    "\n",
    "Longer Time Frames (1-Hour, 4-Hour, Daily):\n",
    "- Longer time frames are generally used by swing traders and medium-term traders.\n",
    "- Trends and patterns on these time frames tend to be more reliable, with less \"noise\" compared to shorter time frames.\n",
    "- Trades occur less frequently, and holding positions for longer periods may require more patience.\n",
    "- When choosing a time frame for a momentum trading bot, consider the following factors:\n",
    "\n",
    "Trading Style: Your trading style and objectives matter. If you want to capitalize on very short-term price movements, you might choose a shorter time frame. For longer-term trades, consider longer time frames.\n",
    "\n",
    "Asset Volatility: The volatility of the asset you're trading is crucial. Highly volatile assets might require shorter time frames to capture momentum, while less volatile assets can be traded on longer time frames.\n",
    "\n",
    "Risk Management: Shorter time frames often require tighter stop-loss orders and more frequent monitoring, so you need a robust risk management strategy.\n",
    "\n",
    "Technical Analysis: The time frame you choose should align with your technical analysis. Different time frames may show different patterns and signals.\n",
    "\n",
    "Infrastructure: High-frequency trading often demands low-latency infrastructure, including high-speed internet connections and powerful servers.\n",
    "\n",
    "Backtesting: Use backtesting to evaluate the performance of your trading strategy on historical data across various time frames. This can help you determine which time frame works best for your specific strategy."
   ]
  }
 ],
 "metadata": {
  "kernelspec": {
   "display_name": "Python 3.11.0 64-bit",
   "language": "python",
   "name": "python3"
  },
  "language_info": {
   "codemirror_mode": {
    "name": "ipython",
    "version": 3
   },
   "file_extension": ".py",
   "mimetype": "text/x-python",
   "name": "python",
   "nbconvert_exporter": "python",
   "pygments_lexer": "ipython3",
   "version": "3.11.0"
  },
  "orig_nbformat": 4,
  "vscode": {
   "interpreter": {
    "hash": "aee8b7b246df8f9039afb4144a1f6fd8d2ca17a180786b69acc140d282b71a49"
   }
  }
 },
 "nbformat": 4,
 "nbformat_minor": 2
}
