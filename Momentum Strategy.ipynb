{
 "cells": [
  {
   "cell_type": "code",
   "execution_count": 44,
   "metadata": {},
   "outputs": [],
   "source": [
    "import pandas as pd\n",
    "import datetime\n",
    "import ccxt"
   ]
  },
  {
   "cell_type": "markdown",
   "metadata": {},
   "source": [
    "1. Data Collection"
   ]
  },
  {
   "cell_type": "code",
   "execution_count": 45,
   "metadata": {},
   "outputs": [
    {
     "name": "stdout",
     "output_type": "stream",
     "text": [
      "['ace', 'alpaca', 'ascendex', 'bequant', 'bigone', 'binance', 'binancecoinm', 'binanceus', 'binanceusdm', 'bingx', 'bit2c', 'bitbank', 'bitbay', 'bitbns', 'bitcoincom', 'bitfinex', 'bitfinex2', 'bitflyer', 'bitforex', 'bitget', 'bithumb', 'bitmart', 'bitmex', 'bitopro', 'bitpanda', 'bitrue', 'bitso', 'bitstamp', 'bitstamp1', 'bittrex', 'bitvavo', 'bl3p', 'blockchaincom', 'btcalpha', 'btcbox', 'btcmarkets', 'btctradeua', 'btcturk', 'bybit', 'cex', 'coinbase', 'coinbaseprime', 'coinbasepro', 'coincheck', 'coinex', 'coinfalcon', 'coinmate', 'coinone', 'coinsph', 'coinspot', 'cryptocom', 'currencycom', 'delta', 'deribit', 'digifinex', 'exmo', 'fmfwio', 'gate', 'gateio', 'gemini', 'hitbtc', 'hitbtc3', 'hollaex', 'huobi', 'huobijp', 'huobipro', 'idex', 'independentreserve', 'indodax', 'kraken', 'krakenfutures', 'kucoin', 'kucoinfutures', 'kuna', 'latoken', 'lbank', 'lbank2', 'luno', 'lykke', 'mercado', 'mexc', 'mexc3', 'ndax', 'novadax', 'oceanex', 'okcoin', 'okex', 'okex5', 'okx', 'paymium', 'phemex', 'poloniex', 'poloniexfutures', 'probit', 'tidex', 'timex', 'tokocrypto', 'upbit', 'wavesexchange', 'wazirx', 'whitebit', 'woo', 'yobit', 'zaif', 'zonda']\n"
     ]
    }
   ],
   "source": [
    "print(ccxt.exchanges)"
   ]
  },
  {
   "cell_type": "code",
   "execution_count": 46,
   "metadata": {},
   "outputs": [],
   "source": [
    "exchange = ccxt.binance()"
   ]
  },
  {
   "cell_type": "code",
   "execution_count": 47,
   "metadata": {},
   "outputs": [],
   "source": [
    "# Retrieve trading pairs\n",
    "markets = exchange.load_markets()\n",
    "\n",
    "# Create a DataFrame from the list of trading pairs\n",
    "df_currencies = pd.DataFrame(list(markets.values()))"
   ]
  },
  {
   "cell_type": "code",
   "execution_count": 48,
   "metadata": {},
   "outputs": [
    {
     "data": {
      "text/plain": [
       "spot      2417\n",
       "swap       295\n",
       "future      36\n",
       "Name: type, dtype: int64"
      ]
     },
     "execution_count": 48,
     "metadata": {},
     "output_type": "execute_result"
    }
   ],
   "source": [
    "df_currencies['type'].value_counts()"
   ]
  },
  {
   "cell_type": "code",
   "execution_count": 49,
   "metadata": {},
   "outputs": [],
   "source": [
    "# Delete all data that are not quoted upon USD as well as keep only swap data points\n",
    "df_currencies = df_currencies[df_currencies['quote'] == 'USD']\n",
    "df_currencies = df_currencies[df_currencies['type'] == 'swap']\n",
    "\n",
    "# Reset index\n",
    "df_currencies = df_currencies.reset_index(drop=True)"
   ]
  },
  {
   "cell_type": "code",
   "execution_count": 50,
   "metadata": {},
   "outputs": [
    {
     "data": {
      "text/plain": [
       "count              41\n",
       "unique             41\n",
       "top       BTCUSD_PERP\n",
       "freq                1\n",
       "Name: id, dtype: object"
      ]
     },
     "execution_count": 50,
     "metadata": {},
     "output_type": "execute_result"
    }
   ],
   "source": [
    "df_currencies['id'].describe()"
   ]
  },
  {
   "cell_type": "code",
   "execution_count": 51,
   "metadata": {},
   "outputs": [],
   "source": [
    "df_currencies.to_excel('Currencies.xlsx')"
   ]
  },
  {
   "cell_type": "markdown",
   "metadata": {},
   "source": [
    "Retrieval of Data in a set period"
   ]
  },
  {
   "cell_type": "markdown",
   "metadata": {},
   "source": [
    "Issue in the code.. period definition is not working properly"
   ]
  },
  {
   "cell_type": "code",
   "execution_count": 52,
   "metadata": {},
   "outputs": [
    {
     "data": {
      "text/html": [
       "<div>\n",
       "<style scoped>\n",
       "    .dataframe tbody tr th:only-of-type {\n",
       "        vertical-align: middle;\n",
       "    }\n",
       "\n",
       "    .dataframe tbody tr th {\n",
       "        vertical-align: top;\n",
       "    }\n",
       "\n",
       "    .dataframe thead th {\n",
       "        text-align: right;\n",
       "    }\n",
       "</style>\n",
       "<table border=\"1\" class=\"dataframe\">\n",
       "  <thead>\n",
       "    <tr style=\"text-align: right;\">\n",
       "      <th></th>\n",
       "      <th>Timestamp</th>\n",
       "      <th>ETH/USD_Open</th>\n",
       "      <th>ETH/USD_Volume</th>\n",
       "    </tr>\n",
       "  </thead>\n",
       "  <tbody>\n",
       "    <tr>\n",
       "      <th>0</th>\n",
       "      <td>2023-01-01 00:05:00</td>\n",
       "      <td>1195.67</td>\n",
       "      <td>771.746245</td>\n",
       "    </tr>\n",
       "    <tr>\n",
       "      <th>1</th>\n",
       "      <td>2023-01-01 00:10:00</td>\n",
       "      <td>1194.62</td>\n",
       "      <td>561.227518</td>\n",
       "    </tr>\n",
       "    <tr>\n",
       "      <th>2</th>\n",
       "      <td>2023-01-01 00:15:00</td>\n",
       "      <td>1193.84</td>\n",
       "      <td>990.491806</td>\n",
       "    </tr>\n",
       "    <tr>\n",
       "      <th>3</th>\n",
       "      <td>2023-01-01 00:20:00</td>\n",
       "      <td>1195.29</td>\n",
       "      <td>151.990161</td>\n",
       "    </tr>\n",
       "    <tr>\n",
       "      <th>4</th>\n",
       "      <td>2023-01-01 00:25:00</td>\n",
       "      <td>1195.53</td>\n",
       "      <td>231.066821</td>\n",
       "    </tr>\n",
       "    <tr>\n",
       "      <th>...</th>\n",
       "      <td>...</td>\n",
       "      <td>...</td>\n",
       "      <td>...</td>\n",
       "    </tr>\n",
       "    <tr>\n",
       "      <th>103963</th>\n",
       "      <td>2023-12-27 23:40:00</td>\n",
       "      <td>2378.87</td>\n",
       "      <td>1442.798922</td>\n",
       "    </tr>\n",
       "    <tr>\n",
       "      <th>103964</th>\n",
       "      <td>2023-12-27 23:45:00</td>\n",
       "      <td>2384.91</td>\n",
       "      <td>1355.289090</td>\n",
       "    </tr>\n",
       "    <tr>\n",
       "      <th>103965</th>\n",
       "      <td>2023-12-27 23:50:00</td>\n",
       "      <td>2380.35</td>\n",
       "      <td>1583.140458</td>\n",
       "    </tr>\n",
       "    <tr>\n",
       "      <th>103966</th>\n",
       "      <td>2023-12-27 23:55:00</td>\n",
       "      <td>2380.15</td>\n",
       "      <td>606.417749</td>\n",
       "    </tr>\n",
       "    <tr>\n",
       "      <th>103967</th>\n",
       "      <td>2023-12-28 00:00:00</td>\n",
       "      <td>2381.84</td>\n",
       "      <td>2379.641573</td>\n",
       "    </tr>\n",
       "  </tbody>\n",
       "</table>\n",
       "<p>103968 rows × 3 columns</p>\n",
       "</div>"
      ],
      "text/plain": [
       "                 Timestamp  ETH/USD_Open  ETH/USD_Volume\n",
       "0      2023-01-01 00:05:00       1195.67      771.746245\n",
       "1      2023-01-01 00:10:00       1194.62      561.227518\n",
       "2      2023-01-01 00:15:00       1193.84      990.491806\n",
       "3      2023-01-01 00:20:00       1195.29      151.990161\n",
       "4      2023-01-01 00:25:00       1195.53      231.066821\n",
       "...                    ...           ...             ...\n",
       "103963 2023-12-27 23:40:00       2378.87     1442.798922\n",
       "103964 2023-12-27 23:45:00       2384.91     1355.289090\n",
       "103965 2023-12-27 23:50:00       2380.35     1583.140458\n",
       "103966 2023-12-27 23:55:00       2380.15      606.417749\n",
       "103967 2023-12-28 00:00:00       2381.84     2379.641573\n",
       "\n",
       "[103968 rows x 3 columns]"
      ]
     },
     "execution_count": 52,
     "metadata": {},
     "output_type": "execute_result"
    }
   ],
   "source": [
    "# Define a list of trading pairs\n",
    "symbols = ['ETH/USD']\n",
    "\n",
    "# Specify the timeframe\n",
    "timeframe = '5m'\n",
    "\n",
    "start_date = exchange.parse8601('2023-01-01T00:00:00Z')  # Start date in ISO8601 format\n",
    "end_date = exchange.parse8601('2023-12-28T00:00:00Z')  # End date in ISO8601 format\n",
    "\n",
    "limit = 1000  # Number of data points to fetch per request\n",
    "\n",
    "# Create an empty DataFrame to store the data\n",
    "df = pd.DataFrame()\n",
    "\n",
    "import time  # Import the time module for sleep\n",
    "\n",
    "while start_date < end_date:\n",
    "    data_available = False  # Flag to check if data is available for at least one symbol\n",
    "    max_timestamp = None  # To keep track of the maximum timestamp\n",
    "    \n",
    "    for symbol in symbols:\n",
    "        # Calculate the end timestamp for this data request\n",
    "        end_timestamp = min(start_date + limit * 300 * 1000, end_date)\n",
    "        \n",
    "        # Fetch the OHLCV data for each trading pair within the specified date range\n",
    "        ohlcv = exchange.fetch_ohlcv(symbol, timeframe, start_date, limit, params={'endTime': end_timestamp})\n",
    "        \n",
    "        if ohlcv:\n",
    "            data_available = True  # Data is available for at least one symbol\n",
    "            \n",
    "            # Extract the 'Open' and 'Volume' values and store them in a DataFrame\n",
    "            open_values = [candle[1] for candle in ohlcv]\n",
    "            volume_values = [candle[5] for candle in ohlcv]\n",
    "            \n",
    "            # Create a DataFrame for the current pair\n",
    "            df_pair = pd.DataFrame({\n",
    "                'Timestamp': [candle[0] for candle in ohlcv],\n",
    "                f'{symbol}_Open': open_values,  # Rename the open column\n",
    "                f'{symbol}_Volume': volume_values  # Create a new volume column\n",
    "            })\n",
    "            \n",
    "            if df.empty:\n",
    "                df = df_pair\n",
    "            else:\n",
    "                # Merge the DataFrames on the 'Timestamp' column with a concat\n",
    "                df = pd.concat([df, df_pair], ignore_index=True, sort=False)\n",
    "            \n",
    "            # Update the maximum timestamp for all pairs\n",
    "            max_symbol_timestamp = ohlcv[-1][0]\n",
    "            if max_timestamp is None or max_symbol_timestamp > max_timestamp:\n",
    "                max_timestamp = max_symbol_timestamp\n",
    "        \n",
    "    # Update the start time for the next request\n",
    "    start_date = max_timestamp + 1  # Increment by the maximum timestamp\n",
    "    \n",
    "    # Check if there are more data points to fetch, if not, exit the loop\n",
    "    if not data_available or start_date >= end_date:\n",
    "        break\n",
    "    \n",
    "    # Introduce a small delay to avoid hitting rate limits\n",
    "    time.sleep(1)\n",
    "\n",
    "\n",
    "# Sort the DataFrame by 'Timestamp'\n",
    "df.sort_values(by='Timestamp', inplace=True)\n",
    "\n",
    "# Convert the 'Timestamp' column to datetime\n",
    "df['Timestamp'] = pd.to_datetime(df['Timestamp'], unit='ms')\n",
    "\n",
    "# Reset the index\n",
    "df.reset_index(drop=True, inplace=True)\n",
    "\n",
    "# Export the DataFrame to an Excel file\n",
    "df.to_excel('Pair Data1.xlsx')\n",
    "\n",
    "df"
   ]
  },
  {
   "cell_type": "markdown",
   "metadata": {},
   "source": [
    "2. Feature Engineering\n",
    "\n",
    "- Create new features that might be relevant for the trading strategy. For example, moving averages, relative strength index (RSI), moving average convergence divergence (MACD), and other technical indicators.\n",
    "- Consider adding lag features, such as the previous period's prices or volumes, as they might provide useful information."
   ]
  },
  {
   "cell_type": "code",
   "execution_count": 53,
   "metadata": {},
   "outputs": [],
   "source": [
    "\n",
    "# 1. Feature Engineering - Moving Averages\n",
    "df['ETH/USD_MA_10'] = df['ETH/USD_Open'].rolling(window=10).mean()\n",
    "df['ETH/USD_MA_30'] = df['ETH/USD_Open'].rolling(window=30).mean()\n",
    "\n",
    "# 2. Feature Engineering - Relative Strength Index (RSI)\n",
    "def calculate_rsi(data, window=14):\n",
    "    diff = data.diff(1)\n",
    "    gain = diff.where(diff > 0, 0)\n",
    "    loss = -diff.where(diff < 0, 0)\n",
    "\n",
    "    avg_gain = gain.rolling(window=window, min_periods=1).mean()\n",
    "    avg_loss = loss.rolling(window=window, min_periods=1).mean()\n",
    "\n",
    "    rs = avg_gain / avg_loss\n",
    "    rsi = 100 - (100 / (1 + rs))\n",
    "    return rsi\n",
    "\n",
    "df['ETH/USD_RSI'] = calculate_rsi(df['ETH/USD_Open'])\n",
    "\n",
    "# 3. Feature Engineering - Moving Average Convergence Divergence (MACD)\n",
    "short_window = 12\n",
    "long_window = 26\n",
    "\n",
    "df['ETH/USD_Short_MA'] = df['ETH/USD_Open'].rolling(window=short_window).mean()\n",
    "df['ETH/USD_Long_MA'] = df['ETH/USD_Open'].rolling(window=long_window).mean()\n",
    "\n",
    "df['ETH/USD_MACD'] = df['ETH/USD_Short_MA'] - df['ETH/USD_Long_MA']\n",
    "\n",
    "# Calculate the 9-period EMA of the MACD\n",
    "macd_period = 9\n",
    "\n",
    "# Calculate the MACD line (difference between short-term and long-term EMAs)\n",
    "df['ETH/USD_MACD'] = df['ETH/USD_Short_MA'] - df['ETH/USD_Long_MA']\n",
    "\n",
    "# Calculate the signal line (9-period EMA of the MACD)\n",
    "df['ETH/USD_Signal_Line'] = df['ETH/USD_MACD'].ewm(span=macd_period, adjust=False).mean()\n",
    "\n",
    "def generate_signals(df):\n",
    "    \"\"\"\n",
    "    Generate buy, sell, and hold signals based on MACD and RSI conditions.\n",
    "\n",
    "    Parameters:\n",
    "    - df: DataFrame with 'ETH/USD_MACD', 'ETH/USD_Signal_Line', and 'ETH/USD_RSI' columns.\n",
    "    - rsi_window: Window for RSI calculation.\n",
    "    - macd_period: Period for MACD calculation.\n",
    "\n",
    "    Returns:\n",
    "    - df: Updated DataFrame with 'Buy_Signal', 'Sell_Signal', and 'Hold_Signal' columns.\n",
    "    \"\"\"\n",
    "    # Buy Signal based on MACD\n",
    "    df['Buy_Signal_MACD'] = (df['ETH/USD_MACD'] > df['ETH/USD_Signal_Line']) & (df['ETH/USD_MACD'].shift(1) <= df['ETH/USD_Signal_Line'].shift(1))\n",
    "\n",
    "    # Buy Signal based on RSI\n",
    "    df['Buy_Signal_RSI'] = df['ETH/USD_RSI'] < 30  # Example: Buy if RSI is less than 30 (oversold condition)\n",
    "\n",
    "    # Combine MACD and RSI Buy Signals\n",
    "    df['Buy_Signal'] = df['Buy_Signal_MACD'] & df['Buy_Signal_RSI']\n",
    "\n",
    "    # Sell Signal based on MACD\n",
    "    df['Sell_Signal_MACD'] = (df['ETH/USD_MACD'] < df['ETH/USD_Signal_Line']) & (df['ETH/USD_MACD'].shift(1) >= df['ETH/USD_Signal_Line'].shift(1))\n",
    "\n",
    "    # Sell Signal based on RSI\n",
    "    df['Sell_Signal_RSI'] = df['ETH/USD_RSI'] > 70  # Example: Sell if RSI is greater than 70 (overbought condition)\n",
    "\n",
    "    # Combine MACD and RSI Sell Signals\n",
    "    df['Sell_Signal'] = df['Sell_Signal_MACD'] & df['Sell_Signal_RSI']\n",
    "\n",
    "    # Hold Signal\n",
    "    df['Hold_Signal'] = ~(df['Buy_Signal'] | df['Sell_Signal'])\n",
    "\n",
    "    return df\n",
    "\n",
    "generate_signals(df)\n",
    "\n",
    "df.to_excel(\"Features1.xlsx\")"
   ]
  },
  {
   "cell_type": "markdown",
   "metadata": {},
   "source": [
    "3. Backtesting"
   ]
  },
  {
   "cell_type": "code",
   "execution_count": 54,
   "metadata": {},
   "outputs": [
    {
     "name": "stdout",
     "output_type": "stream",
     "text": [
      "Buying at 2023-01-02 02:10:00 - Price: 1194.51, Position: 83.71633556855949\n",
      "Selling at 2023-01-04 04:15:00 - Price: 1249.2, Cash: 104578.44639224451\n",
      "Buying at 2023-01-24 23:35:00 - Price: 1552.05, Position: 67.38084880786349\n",
      "Selling at 2023-01-25 04:20:00 - Price: 1546.39, Cash: 104197.07078799202\n",
      "Buying at 2023-02-21 21:15:00 - Price: 1662.73, Position: 62.66626017933881\n",
      "Selling at 2023-02-23 00:05:00 - Price: 1644.47, Cash: 103052.7848771173\n",
      "Buying at 2023-03-22 20:40:00 - Price: 1727.63, Position: 59.64980052274925\n",
      "Selling at 2023-04-10 23:40:00 - Price: 1913.47, Cash: 114138.10380626502\n",
      "Buying at 2023-04-14 16:30:00 - Price: 2058.4, Position: 55.44991440257725\n",
      "Selling at 2023-04-18 07:25:00 - Price: 2105.5, Cash: 116749.7947746264\n",
      "Buying at 2023-04-24 06:50:00 - Price: 1851.25, Position: 63.065385428562536\n",
      "Selling at 2023-04-25 21:30:00 - Price: 1870.01, Cash: 117932.90140526622\n",
      "Buying at 2023-05-06 14:05:00 - Price: 1899.43, Position: 62.08857468043898\n",
      "Selling at 2023-05-14 04:35:00 - Price: 1803.32, Cash: 111965.56849272922\n",
      "Buying at 2023-05-26 22:55:00 - Price: 1827.75, Position: 61.258688821080135\n",
      "Selling at 2023-06-04 08:05:00 - Price: 1901.25, Cash: 116468.08212107861\n",
      "Buying at 2023-06-10 06:10:00 - Price: 1754.07, Position: 66.39876522663212\n",
      "Selling at 2023-06-12 22:10:00 - Price: 1745.57, Cash: 115903.69261665223\n",
      "Buying at 2023-06-26 18:05:00 - Price: 1843.63, Position: 62.86711141424919\n",
      "Selling at 2023-06-30 04:10:00 - Price: 1877.05, Cash: 118004.71148011643\n",
      "Buying at 2023-07-05 09:50:00 - Price: 1923.4, Position: 61.352142809668514\n",
      "Selling at 2023-07-08 23:15:00 - Price: 1862.12, Cash: 114245.05216873993\n",
      "Buying at 2023-07-21 05:30:00 - Price: 1891.63, Position: 60.39503082988741\n",
      "Selling at 2023-08-01 19:50:00 - Price: 1850.33, Cash: 111750.73739546556\n",
      "Buying at 2023-08-02 03:40:00 - Price: 1864.44, Position: 59.9379638902113\n",
      "Selling at 2023-08-02 20:45:00 - Price: 1842.01, Cash: 110406.32886540811\n",
      "Buying at 2023-08-10 04:35:00 - Price: 1851.37, Position: 59.6349345973026\n",
      "Selling at 2023-08-12 01:35:00 - Price: 1849.87, Cash: 110316.87646351216\n",
      "Buying at 2023-08-12 03:10:00 - Price: 1847.22, Position: 59.72048617030573\n",
      "Selling at 2023-08-13 07:50:00 - Price: 1847.15, Cash: 110312.69602948024\n",
      "Buying at 2023-08-14 19:05:00 - Price: 1840.91, Position: 59.92291639975895\n",
      "Selling at 2023-08-23 00:20:00 - Price: 1637.15, Cash: 98102.80258386537\n",
      "Buying at 2023-09-06 05:15:00 - Price: 1628.25, Position: 60.250454527170504\n",
      "Selling at 2023-09-23 06:35:00 - Price: 1593.56, Cash: 96012.71431631783\n",
      "Buying at 2023-10-02 17:05:00 - Price: 1683.23, Position: 57.04075754134481\n",
      "Selling at 2023-10-04 08:55:00 - Price: 1646.86, Cash: 93938.14196453911\n",
      "Buying at 2023-10-23 08:00:00 - Price: 1676.04, Position: 56.04767306540364\n",
      "Selling at 2023-11-06 10:35:00 - Price: 1896.93, Cash: 106318.51246795614\n",
      "Buying at 2023-11-07 11:00:00 - Price: 1870.16, Position: 56.84995533427949\n",
      "Selling at 2023-11-09 23:15:00 - Price: 2103.91, Cash: 119607.18952734396\n",
      "Buying at 2023-12-18 00:20:00 - Price: 2197.74, Position: 54.42281140050414\n",
      "Selling at 2023-12-18 22:25:00 - Price: 2220.55, Cash: 120848.57385538948\n"
     ]
    }
   ],
   "source": [
    "initial_capital = 100000  # Set your initial capital\n",
    "cash = initial_capital\n",
    "position = 0  # Number of units held\n",
    "portfolio_value = []  # To store portfolio value at each timestamp\n",
    "\n",
    "for index, row in df.iterrows():\n",
    "    # Check for Buy Signal\n",
    "    if row['Buy_Signal']:\n",
    "        if cash > 0:\n",
    "            # Buy the asset using available cash\n",
    "            position = cash / row['ETH/USD_Open']\n",
    "            cash = 0\n",
    "            print(f\"Buying at {row['Timestamp']} - Price: {row['ETH/USD_Open']}, Position: {position}\")\n",
    "\n",
    "    # Check for Sell Signal\n",
    "    elif row['Sell_Signal']:\n",
    "        if position > 0:\n",
    "            # Sell the entire position\n",
    "            cash = position * row['ETH/USD_Open']\n",
    "            position = 0\n",
    "            print(f\"Selling at {row['Timestamp']} - Price: {row['ETH/USD_Open']}, Cash: {cash}\")\n",
    "\n",
    "    # Calculate portfolio value at each timestamp\n",
    "    portfolio_value.append(cash + position * row['ETH/USD_Open'])\n",
    "\n",
    "# Add portfolio_value to the DataFrame\n",
    "df['Portfolio_Value'] = portfolio_value\n"
   ]
  },
  {
   "cell_type": "markdown",
   "metadata": {},
   "source": [
    "The choice of a time frame for a momentum trading bot depends on your trading strategy, risk tolerance, and the assets you are trading. Different time frames offer different trade-offs, and there is no one-size-fits-all answer. Here are some considerations for selecting a time frame:\n",
    "\n",
    "1-Minute (or Less) Time Frame:\n",
    "- Very short time frames like 1 minute are often used by high-frequency traders (HFT) and algorithmic trading systems that execute many trades in a short time. They require low latency and advanced infrastructure.\n",
    "- High-frequency trading is associated with increased transaction costs, such as trading fees and potential slippage, and may not be suitable for all traders.\n",
    "- The price action can be more erratic, making it challenging to identify meaningful trends, and there's a risk of \"noise\" in the data.\n",
    "  \n",
    "Shorter Time Frames (5-Minute, 15-Minute, 30-Minute):\n",
    "- These time frames are often used by day traders and short-term momentum traders.\n",
    "- They allow for more trades throughout the day but still require careful risk management due to the rapid price changes.\n",
    "\n",
    "Longer Time Frames (1-Hour, 4-Hour, Daily):\n",
    "- Longer time frames are generally used by swing traders and medium-term traders.\n",
    "- Trends and patterns on these time frames tend to be more reliable, with less \"noise\" compared to shorter time frames.\n",
    "- Trades occur less frequently, and holding positions for longer periods may require more patience.\n",
    "- When choosing a time frame for a momentum trading bot, consider the following factors:\n",
    "\n",
    "Trading Style: Your trading style and objectives matter. If you want to capitalize on very short-term price movements, you might choose a shorter time frame. For longer-term trades, consider longer time frames.\n",
    "\n",
    "Asset Volatility: The volatility of the asset you're trading is crucial. Highly volatile assets might require shorter time frames to capture momentum, while less volatile assets can be traded on longer time frames.\n",
    "\n",
    "Risk Management: Shorter time frames often require tighter stop-loss orders and more frequent monitoring, so you need a robust risk management strategy.\n",
    "\n",
    "Technical Analysis: The time frame you choose should align with your technical analysis. Different time frames may show different patterns and signals.\n",
    "\n",
    "Infrastructure: High-frequency trading often demands low-latency infrastructure, including high-speed internet connections and powerful servers.\n",
    "\n",
    "Backtesting: Use backtesting to evaluate the performance of your trading strategy on historical data across various time frames. This can help you determine which time frame works best for your specific strategy."
   ]
  }
 ],
 "metadata": {
  "kernelspec": {
   "display_name": "Python 3.11.0 64-bit",
   "language": "python",
   "name": "python3"
  },
  "language_info": {
   "codemirror_mode": {
    "name": "ipython",
    "version": 3
   },
   "file_extension": ".py",
   "mimetype": "text/x-python",
   "name": "python",
   "nbconvert_exporter": "python",
   "pygments_lexer": "ipython3",
   "version": "3.11.0"
  },
  "orig_nbformat": 4,
  "vscode": {
   "interpreter": {
    "hash": "aee8b7b246df8f9039afb4144a1f6fd8d2ca17a180786b69acc140d282b71a49"
   }
  }
 },
 "nbformat": 4,
 "nbformat_minor": 2
}
