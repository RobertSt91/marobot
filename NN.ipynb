{
 "cells": [
  {
   "cell_type": "code",
   "execution_count": 2,
   "metadata": {},
   "outputs": [],
   "source": [
    "import pandas as pd\n",
    "import datetime\n",
    "import ccxt"
   ]
  },
  {
   "cell_type": "markdown",
   "metadata": {},
   "source": [
    "1. Data Collection"
   ]
  },
  {
   "cell_type": "code",
   "execution_count": 3,
   "metadata": {},
   "outputs": [
    {
     "name": "stdout",
     "output_type": "stream",
     "text": [
      "['ace', 'alpaca', 'ascendex', 'bequant', 'bigone', 'binance', 'binancecoinm', 'binanceus', 'binanceusdm', 'bingx', 'bit2c', 'bitbank', 'bitbay', 'bitbns', 'bitcoincom', 'bitfinex', 'bitfinex2', 'bitflyer', 'bitforex', 'bitget', 'bithumb', 'bitmart', 'bitmex', 'bitopro', 'bitpanda', 'bitrue', 'bitso', 'bitstamp', 'bitstamp1', 'bittrex', 'bitvavo', 'bl3p', 'blockchaincom', 'btcalpha', 'btcbox', 'btcmarkets', 'btctradeua', 'btcturk', 'bybit', 'cex', 'coinbase', 'coinbaseprime', 'coinbasepro', 'coincheck', 'coinex', 'coinfalcon', 'coinmate', 'coinone', 'coinsph', 'coinspot', 'cryptocom', 'currencycom', 'delta', 'deribit', 'digifinex', 'exmo', 'fmfwio', 'gate', 'gateio', 'gemini', 'hitbtc', 'hitbtc3', 'hollaex', 'huobi', 'huobijp', 'huobipro', 'idex', 'independentreserve', 'indodax', 'kraken', 'krakenfutures', 'kucoin', 'kucoinfutures', 'kuna', 'latoken', 'lbank', 'lbank2', 'luno', 'lykke', 'mercado', 'mexc', 'mexc3', 'ndax', 'novadax', 'oceanex', 'okcoin', 'okex', 'okex5', 'okx', 'paymium', 'phemex', 'poloniex', 'poloniexfutures', 'probit', 'tidex', 'timex', 'tokocrypto', 'upbit', 'wavesexchange', 'wazirx', 'whitebit', 'woo', 'yobit', 'zaif', 'zonda']\n"
     ]
    }
   ],
   "source": [
    "print(ccxt.exchanges)"
   ]
  },
  {
   "cell_type": "code",
   "execution_count": 4,
   "metadata": {},
   "outputs": [],
   "source": [
    "exchange = ccxt.binance()"
   ]
  },
  {
   "cell_type": "code",
   "execution_count": 5,
   "metadata": {},
   "outputs": [],
   "source": [
    "# Retrieve trading pairs\n",
    "markets = exchange.load_markets()\n",
    "\n",
    "# Create a DataFrame from the list of trading pairs\n",
    "df_currencies = pd.DataFrame(list(markets.values()))"
   ]
  },
  {
   "cell_type": "code",
   "execution_count": 6,
   "metadata": {},
   "outputs": [
    {
     "data": {
      "text/plain": [
       "spot      2417\n",
       "swap       295\n",
       "future      36\n",
       "Name: type, dtype: int64"
      ]
     },
     "execution_count": 6,
     "metadata": {},
     "output_type": "execute_result"
    }
   ],
   "source": [
    "df_currencies['type'].value_counts()"
   ]
  },
  {
   "cell_type": "code",
   "execution_count": 7,
   "metadata": {},
   "outputs": [],
   "source": [
    "# Delete all data that are not quoted upon USD as well as keep only swap data points\n",
    "df_currencies = df_currencies[df_currencies['quote'] == 'USD']\n",
    "df_currencies = df_currencies[df_currencies['type'] == 'swap']\n",
    "\n",
    "# Reset index\n",
    "df_currencies = df_currencies.reset_index(drop=True)"
   ]
  },
  {
   "cell_type": "code",
   "execution_count": 8,
   "metadata": {},
   "outputs": [
    {
     "data": {
      "text/plain": [
       "count              41\n",
       "unique             41\n",
       "top       BTCUSD_PERP\n",
       "freq                1\n",
       "Name: id, dtype: object"
      ]
     },
     "execution_count": 8,
     "metadata": {},
     "output_type": "execute_result"
    }
   ],
   "source": [
    "df_currencies['id'].describe()"
   ]
  },
  {
   "cell_type": "code",
   "execution_count": 9,
   "metadata": {},
   "outputs": [],
   "source": [
    "df_currencies.to_excel('Currencies.xlsx')"
   ]
  },
  {
   "cell_type": "markdown",
   "metadata": {},
   "source": [
    "Retrieval of Data in a set period"
   ]
  },
  {
   "cell_type": "markdown",
   "metadata": {},
   "source": [
    "Issue in the code.. period definition is not working properly"
   ]
  },
  {
   "cell_type": "code",
   "execution_count": 10,
   "metadata": {},
   "outputs": [
    {
     "data": {
      "text/html": [
       "<div>\n",
       "<style scoped>\n",
       "    .dataframe tbody tr th:only-of-type {\n",
       "        vertical-align: middle;\n",
       "    }\n",
       "\n",
       "    .dataframe tbody tr th {\n",
       "        vertical-align: top;\n",
       "    }\n",
       "\n",
       "    .dataframe thead th {\n",
       "        text-align: right;\n",
       "    }\n",
       "</style>\n",
       "<table border=\"1\" class=\"dataframe\">\n",
       "  <thead>\n",
       "    <tr style=\"text-align: right;\">\n",
       "      <th></th>\n",
       "      <th>Timestamp</th>\n",
       "      <th>ETH/USD_Open</th>\n",
       "      <th>ETH/USD_Volume</th>\n",
       "    </tr>\n",
       "  </thead>\n",
       "  <tbody>\n",
       "    <tr>\n",
       "      <th>0</th>\n",
       "      <td>2023-01-01 00:05:00</td>\n",
       "      <td>1195.67</td>\n",
       "      <td>771.746245</td>\n",
       "    </tr>\n",
       "    <tr>\n",
       "      <th>1</th>\n",
       "      <td>2023-01-01 00:10:00</td>\n",
       "      <td>1194.62</td>\n",
       "      <td>561.227518</td>\n",
       "    </tr>\n",
       "    <tr>\n",
       "      <th>2</th>\n",
       "      <td>2023-01-01 00:15:00</td>\n",
       "      <td>1193.84</td>\n",
       "      <td>990.491806</td>\n",
       "    </tr>\n",
       "    <tr>\n",
       "      <th>3</th>\n",
       "      <td>2023-01-01 00:20:00</td>\n",
       "      <td>1195.29</td>\n",
       "      <td>151.990161</td>\n",
       "    </tr>\n",
       "    <tr>\n",
       "      <th>4</th>\n",
       "      <td>2023-01-01 00:25:00</td>\n",
       "      <td>1195.53</td>\n",
       "      <td>231.066821</td>\n",
       "    </tr>\n",
       "    <tr>\n",
       "      <th>...</th>\n",
       "      <td>...</td>\n",
       "      <td>...</td>\n",
       "      <td>...</td>\n",
       "    </tr>\n",
       "    <tr>\n",
       "      <th>103963</th>\n",
       "      <td>2023-12-27 23:40:00</td>\n",
       "      <td>2378.87</td>\n",
       "      <td>1442.798922</td>\n",
       "    </tr>\n",
       "    <tr>\n",
       "      <th>103964</th>\n",
       "      <td>2023-12-27 23:45:00</td>\n",
       "      <td>2384.91</td>\n",
       "      <td>1355.289090</td>\n",
       "    </tr>\n",
       "    <tr>\n",
       "      <th>103965</th>\n",
       "      <td>2023-12-27 23:50:00</td>\n",
       "      <td>2380.35</td>\n",
       "      <td>1583.140458</td>\n",
       "    </tr>\n",
       "    <tr>\n",
       "      <th>103966</th>\n",
       "      <td>2023-12-27 23:55:00</td>\n",
       "      <td>2380.15</td>\n",
       "      <td>606.417749</td>\n",
       "    </tr>\n",
       "    <tr>\n",
       "      <th>103967</th>\n",
       "      <td>2023-12-28 00:00:00</td>\n",
       "      <td>2381.84</td>\n",
       "      <td>2379.641573</td>\n",
       "    </tr>\n",
       "  </tbody>\n",
       "</table>\n",
       "<p>103968 rows × 3 columns</p>\n",
       "</div>"
      ],
      "text/plain": [
       "                 Timestamp  ETH/USD_Open  ETH/USD_Volume\n",
       "0      2023-01-01 00:05:00       1195.67      771.746245\n",
       "1      2023-01-01 00:10:00       1194.62      561.227518\n",
       "2      2023-01-01 00:15:00       1193.84      990.491806\n",
       "3      2023-01-01 00:20:00       1195.29      151.990161\n",
       "4      2023-01-01 00:25:00       1195.53      231.066821\n",
       "...                    ...           ...             ...\n",
       "103963 2023-12-27 23:40:00       2378.87     1442.798922\n",
       "103964 2023-12-27 23:45:00       2384.91     1355.289090\n",
       "103965 2023-12-27 23:50:00       2380.35     1583.140458\n",
       "103966 2023-12-27 23:55:00       2380.15      606.417749\n",
       "103967 2023-12-28 00:00:00       2381.84     2379.641573\n",
       "\n",
       "[103968 rows x 3 columns]"
      ]
     },
     "execution_count": 10,
     "metadata": {},
     "output_type": "execute_result"
    }
   ],
   "source": [
    "# Define a list of trading pairs\n",
    "symbols = ['ETH/USD']\n",
    "\n",
    "# Specify the timeframe\n",
    "timeframe = '5m'\n",
    "\n",
    "start_date = exchange.parse8601('2023-01-01T00:00:00Z')  # Start date in ISO8601 format\n",
    "end_date = exchange.parse8601('2023-12-28T00:00:00Z')  # End date in ISO8601 format\n",
    "\n",
    "limit = 1000  # Number of data points to fetch per request\n",
    "\n",
    "# Create an empty DataFrame to store the data\n",
    "df = pd.DataFrame()\n",
    "\n",
    "import time  # Import the time module for sleep\n",
    "\n",
    "while start_date < end_date:\n",
    "    data_available = False  # Flag to check if data is available for at least one symbol\n",
    "    max_timestamp = None  # To keep track of the maximum timestamp\n",
    "    \n",
    "    for symbol in symbols:\n",
    "        # Calculate the end timestamp for this data request\n",
    "        end_timestamp = min(start_date + limit * 300 * 1000, end_date)\n",
    "        \n",
    "        # Fetch the OHLCV data for each trading pair within the specified date range\n",
    "        ohlcv = exchange.fetch_ohlcv(symbol, timeframe, start_date, limit, params={'endTime': end_timestamp})\n",
    "        \n",
    "        if ohlcv:\n",
    "            data_available = True  # Data is available for at least one symbol\n",
    "            \n",
    "            # Extract the 'Open' and 'Volume' values and store them in a DataFrame\n",
    "            open_values = [candle[1] for candle in ohlcv]\n",
    "            volume_values = [candle[5] for candle in ohlcv]\n",
    "            \n",
    "            # Create a DataFrame for the current pair\n",
    "            df_pair = pd.DataFrame({\n",
    "                'Timestamp': [candle[0] for candle in ohlcv],\n",
    "                f'{symbol}_Open': open_values,  # Rename the open column\n",
    "                f'{symbol}_Volume': volume_values  # Create a new volume column\n",
    "            })\n",
    "            \n",
    "            if df.empty:\n",
    "                df = df_pair\n",
    "            else:\n",
    "                # Merge the DataFrames on the 'Timestamp' column with a concat\n",
    "                df = pd.concat([df, df_pair], ignore_index=True, sort=False)\n",
    "            \n",
    "            # Update the maximum timestamp for all pairs\n",
    "            max_symbol_timestamp = ohlcv[-1][0]\n",
    "            if max_timestamp is None or max_symbol_timestamp > max_timestamp:\n",
    "                max_timestamp = max_symbol_timestamp\n",
    "        \n",
    "    # Update the start time for the next request\n",
    "    start_date = max_timestamp + 1  # Increment by the maximum timestamp\n",
    "    \n",
    "    # Check if there are more data points to fetch, if not, exit the loop\n",
    "    if not data_available or start_date >= end_date:\n",
    "        break\n",
    "    \n",
    "    # Introduce a small delay to avoid hitting rate limits\n",
    "    time.sleep(1)\n",
    "\n",
    "\n",
    "# Sort the DataFrame by 'Timestamp'\n",
    "df.sort_values(by='Timestamp', inplace=True)\n",
    "\n",
    "# Convert the 'Timestamp' column to datetime\n",
    "df['Timestamp'] = pd.to_datetime(df['Timestamp'], unit='ms')\n",
    "\n",
    "# Reset the index\n",
    "df.reset_index(drop=True, inplace=True)\n",
    "\n",
    "# Export the DataFrame to an Excel file\n",
    "df.to_excel('Pair Data1.xlsx')\n",
    "\n",
    "df"
   ]
  },
  {
   "cell_type": "markdown",
   "metadata": {},
   "source": [
    "2. Feature Engineering\n",
    "\n",
    "- Create new features that might be relevant for the trading strategy. For example, moving averages, relative strength index (RSI), moving average convergence divergence (MACD), and other technical indicators.\n",
    "- Consider adding lag features, such as the previous period's prices or volumes, as they might provide useful information."
   ]
  },
  {
   "cell_type": "code",
   "execution_count": 11,
   "metadata": {},
   "outputs": [],
   "source": [
    "\n",
    "# 1. Feature Engineering - Moving Averages\n",
    "df['ETH/USD_MA_10'] = df['ETH/USD_Open'].rolling(window=10).mean()\n",
    "df['ETH/USD_MA_30'] = df['ETH/USD_Open'].rolling(window=30).mean()\n",
    "\n",
    "# 2. Feature Engineering - Relative Strength Index (RSI)\n",
    "def calculate_rsi(data, window=14):\n",
    "    diff = data.diff(1)\n",
    "    gain = diff.where(diff > 0, 0)\n",
    "    loss = -diff.where(diff < 0, 0)\n",
    "\n",
    "    avg_gain = gain.rolling(window=window, min_periods=1).mean()\n",
    "    avg_loss = loss.rolling(window=window, min_periods=1).mean()\n",
    "\n",
    "    rs = avg_gain / avg_loss\n",
    "    rsi = 100 - (100 / (1 + rs))\n",
    "    return rsi\n",
    "\n",
    "df['ETH/USD_RSI'] = calculate_rsi(df['ETH/USD_Open'])\n",
    "\n",
    "# 3. Feature Engineering - Moving Average Convergence Divergence (MACD)\n",
    "short_window = 12\n",
    "long_window = 26\n",
    "\n",
    "df['ETH/USD_Short_MA'] = df['ETH/USD_Open'].rolling(window=short_window).mean()\n",
    "df['ETH/USD_Long_MA'] = df['ETH/USD_Open'].rolling(window=long_window).mean()\n",
    "\n",
    "df['ETH/USD_MACD'] = df['ETH/USD_Short_MA'] - df['ETH/USD_Long_MA']\n",
    "\n",
    "# Calculate the 9-period EMA of the MACD\n",
    "macd_period = 9\n",
    "\n",
    "# Calculate the MACD line (difference between short-term and long-term EMAs)\n",
    "df['ETH/USD_MACD'] = df['ETH/USD_Short_MA'] - df['ETH/USD_Long_MA']\n",
    "\n",
    "# Calculate the signal line (9-period EMA of the MACD)\n",
    "df['ETH/USD_Signal_Line'] = df['ETH/USD_MACD'].ewm(span=macd_period, adjust=False).mean()"
   ]
  },
  {
   "cell_type": "code",
   "execution_count": 14,
   "metadata": {},
   "outputs": [
    {
     "name": "stdout",
     "output_type": "stream",
     "text": [
      "Buy Conditions:\n",
      "Empty DataFrame\n",
      "Columns: [Timestamp, ETH/USD_Open]\n",
      "Index: []\n",
      "\n",
      "Sell Conditions:\n",
      "Empty DataFrame\n",
      "Columns: [Timestamp, ETH/USD_Open]\n",
      "Index: []\n"
     ]
    }
   ],
   "source": [
    "# Define a window for looking back and looking forward\n",
    "lookback_window = 5  # You may adjust these values based on your strategy\n",
    "lookforward_window = 5\n",
    "\n",
    "# Create a new column for the target variable\n",
    "df['Target_Variable'] = 0  # Initialize with a default value\n",
    "\n",
    "# Determine buy signals (bottoms)\n",
    "df.loc[\n",
    "    (df['ETH/USD_Open'] < df['ETH/USD_Open'].shift(1).rolling(window=lookback_window).min()) &\n",
    "    (df['ETH/USD_Open'] < df['ETH/USD_Open'].shift(-1).rolling(window=lookforward_window).min()),\n",
    "    'Target_Variable'\n",
    "] = 1  # 1 represents a buy signal\n",
    "\n",
    "# Determine sell signals (tops)\n",
    "df.loc[\n",
    "    (df['ETH/USD_Open'] > df['ETH/USD_Open'].shift(1).rolling(window=lookback_window).max()) &\n",
    "    (df['ETH/USD_Open'] > df['ETH/USD_Open'].shift(-1).rolling(window=lookforward_window).max()),\n",
    "    'Target_Variable'\n",
    "] = -1  # -1 represents a sell signal\n",
    "\n",
    "# Print debug information\n",
    "print(\"Buy Conditions:\")\n",
    "print(df[df['Target_Variable'] == 1][['Timestamp', 'ETH/USD_Open']])\n",
    "\n",
    "print(\"\\nSell Conditions:\")\n",
    "print(df[df['Target_Variable'] == -1][['Timestamp', 'ETH/USD_Open']])\n",
    "\n",
    "df.to_excel(\"Features1.xlsx\", index=False)\n"
   ]
  },
  {
   "cell_type": "code",
   "execution_count": null,
   "metadata": {},
   "outputs": [
    {
     "name": "stdout",
     "output_type": "stream",
     "text": [
      "Buy Signals Count: 0\n",
      "Sell Signals Count: 0\n"
     ]
    }
   ],
   "source": [
    "# Define a window for looking back and looking forward\n",
    "lookback_window = 10  # You may adjust these values based on your strategy\n",
    "lookforward_window = 10\n",
    "\n",
    "# Create a new column for the target variable\n",
    "df['Target_Variable'] = 0  # Initialize with a default value\n",
    "\n",
    "# Determine buy signals (bottoms)\n",
    "df['Buy_Signal'] = (\n",
    "    (df['ETH/USD_Open'] < df['ETH/USD_Open'].shift(1).rolling(window=lookback_window).min()) &\n",
    "    (df['ETH/USD_Open'] < df['ETH/USD_Open'].shift(-1).rolling(window=lookforward_window).min())\n",
    ")\n",
    "\n",
    "# Determine sell signals (tops)\n",
    "df['Sell_Signal'] = (\n",
    "    (df['ETH/USD_Open'] > df['ETH/USD_Open'].shift(1).rolling(window=lookback_window).max()) &\n",
    "    (df['ETH/USD_Open'] > df['ETH/USD_Open'].shift(-1).rolling(window=lookforward_window).max())\n",
    ")\n",
    "\n",
    "\n",
    "# Print the count of buy and sell signals\n",
    "print(\"Buy Signals Count:\", df['Buy_Signal'].sum())\n",
    "print(\"Sell Signals Count:\", df['Sell_Signal'].sum())\n",
    "\n",
    "# Set the target variable based on buy and sell signals\n",
    "df.loc[df['Buy_Signal'], 'Target_Variable'] = 1  # 1 represents a buy signal\n",
    "df.loc[df['Sell_Signal'], 'Target_Variable'] = -1  # -1 represents a sell signal\n",
    "\n",
    "# Drop the temporary Buy_Signal and Sell_Signal columns if needed\n",
    "# df.drop(['Buy_Signal', 'Sell_Signal'], axis=1, inplace=True)\n",
    "\n",
    "df.to_excel(\"Features1.xlsx\")"
   ]
  },
  {
   "cell_type": "code",
   "execution_count": null,
   "metadata": {},
   "outputs": [
    {
     "data": {
      "text/plain": [
       "Index(['Timestamp', 'ETH/USD_Open', 'ETH/USD_Volume', 'ETH/USD_MA_10',\n",
       "       'ETH/USD_MA_30', 'ETH/USD_RSI', 'ETH/USD_Short_MA', 'ETH/USD_Long_MA',\n",
       "       'ETH/USD_MACD', 'ETH/USD_Signal_Line', 'Target_Variable'],\n",
       "      dtype='object')"
      ]
     },
     "execution_count": 29,
     "metadata": {},
     "output_type": "execute_result"
    }
   ],
   "source": [
    "df.columns"
   ]
  },
  {
   "cell_type": "markdown",
   "metadata": {},
   "source": [
    "3. Backtesting"
   ]
  },
  {
   "cell_type": "code",
   "execution_count": null,
   "metadata": {},
   "outputs": [
    {
     "ename": "KeyError",
     "evalue": "'Buy_Signal'",
     "output_type": "error",
     "traceback": [
      "\u001b[0;31m---------------------------------------------------------------------------\u001b[0m",
      "\u001b[0;31mKeyError\u001b[0m                                  Traceback (most recent call last)",
      "File \u001b[0;32m/Library/Frameworks/Python.framework/Versions/3.11/lib/python3.11/site-packages/pandas/core/indexes/base.py:3803\u001b[0m, in \u001b[0;36mIndex.get_loc\u001b[0;34m(self, key, method, tolerance)\u001b[0m\n\u001b[1;32m   3802\u001b[0m \u001b[39mtry\u001b[39;00m:\n\u001b[0;32m-> 3803\u001b[0m     \u001b[39mreturn\u001b[39;00m \u001b[39mself\u001b[39;49m\u001b[39m.\u001b[39;49m_engine\u001b[39m.\u001b[39;49mget_loc(casted_key)\n\u001b[1;32m   3804\u001b[0m \u001b[39mexcept\u001b[39;00m \u001b[39mKeyError\u001b[39;00m \u001b[39mas\u001b[39;00m err:\n",
      "File \u001b[0;32m/Library/Frameworks/Python.framework/Versions/3.11/lib/python3.11/site-packages/pandas/_libs/index.pyx:138\u001b[0m, in \u001b[0;36mpandas._libs.index.IndexEngine.get_loc\u001b[0;34m()\u001b[0m\n",
      "File \u001b[0;32m/Library/Frameworks/Python.framework/Versions/3.11/lib/python3.11/site-packages/pandas/_libs/index.pyx:165\u001b[0m, in \u001b[0;36mpandas._libs.index.IndexEngine.get_loc\u001b[0;34m()\u001b[0m\n",
      "File \u001b[0;32mpandas/_libs/hashtable_class_helper.pxi:5745\u001b[0m, in \u001b[0;36mpandas._libs.hashtable.PyObjectHashTable.get_item\u001b[0;34m()\u001b[0m\n",
      "File \u001b[0;32mpandas/_libs/hashtable_class_helper.pxi:5753\u001b[0m, in \u001b[0;36mpandas._libs.hashtable.PyObjectHashTable.get_item\u001b[0;34m()\u001b[0m\n",
      "\u001b[0;31mKeyError\u001b[0m: 'Buy_Signal'",
      "\nThe above exception was the direct cause of the following exception:\n",
      "\u001b[0;31mKeyError\u001b[0m                                  Traceback (most recent call last)",
      "Cell \u001b[0;32mIn [30], line 8\u001b[0m\n\u001b[1;32m      4\u001b[0m portfolio_value \u001b[39m=\u001b[39m []  \u001b[39m# To store portfolio value at each timestamp\u001b[39;00m\n\u001b[1;32m      6\u001b[0m \u001b[39mfor\u001b[39;00m index, row \u001b[39min\u001b[39;00m df\u001b[39m.\u001b[39miterrows():\n\u001b[1;32m      7\u001b[0m     \u001b[39m# Check for Buy Signal\u001b[39;00m\n\u001b[0;32m----> 8\u001b[0m     \u001b[39mif\u001b[39;00m row[\u001b[39m'\u001b[39;49m\u001b[39mBuy_Signal\u001b[39;49m\u001b[39m'\u001b[39;49m]:\n\u001b[1;32m      9\u001b[0m         \u001b[39mif\u001b[39;00m cash \u001b[39m>\u001b[39m \u001b[39m0\u001b[39m:\n\u001b[1;32m     10\u001b[0m             \u001b[39m# Buy the asset using available cash\u001b[39;00m\n\u001b[1;32m     11\u001b[0m             position \u001b[39m=\u001b[39m cash \u001b[39m/\u001b[39m row[\u001b[39m'\u001b[39m\u001b[39mETH/USD_Open\u001b[39m\u001b[39m'\u001b[39m]\n",
      "File \u001b[0;32m/Library/Frameworks/Python.framework/Versions/3.11/lib/python3.11/site-packages/pandas/core/series.py:981\u001b[0m, in \u001b[0;36mSeries.__getitem__\u001b[0;34m(self, key)\u001b[0m\n\u001b[1;32m    978\u001b[0m     \u001b[39mreturn\u001b[39;00m \u001b[39mself\u001b[39m\u001b[39m.\u001b[39m_values[key]\n\u001b[1;32m    980\u001b[0m \u001b[39melif\u001b[39;00m key_is_scalar:\n\u001b[0;32m--> 981\u001b[0m     \u001b[39mreturn\u001b[39;00m \u001b[39mself\u001b[39;49m\u001b[39m.\u001b[39;49m_get_value(key)\n\u001b[1;32m    983\u001b[0m \u001b[39mif\u001b[39;00m is_hashable(key):\n\u001b[1;32m    984\u001b[0m     \u001b[39m# Otherwise index.get_value will raise InvalidIndexError\u001b[39;00m\n\u001b[1;32m    985\u001b[0m     \u001b[39mtry\u001b[39;00m:\n\u001b[1;32m    986\u001b[0m         \u001b[39m# For labels that don't resolve as scalars like tuples and frozensets\u001b[39;00m\n",
      "File \u001b[0;32m/Library/Frameworks/Python.framework/Versions/3.11/lib/python3.11/site-packages/pandas/core/series.py:1089\u001b[0m, in \u001b[0;36mSeries._get_value\u001b[0;34m(self, label, takeable)\u001b[0m\n\u001b[1;32m   1086\u001b[0m     \u001b[39mreturn\u001b[39;00m \u001b[39mself\u001b[39m\u001b[39m.\u001b[39m_values[label]\n\u001b[1;32m   1088\u001b[0m \u001b[39m# Similar to Index.get_value, but we do not fall back to positional\u001b[39;00m\n\u001b[0;32m-> 1089\u001b[0m loc \u001b[39m=\u001b[39m \u001b[39mself\u001b[39;49m\u001b[39m.\u001b[39;49mindex\u001b[39m.\u001b[39;49mget_loc(label)\n\u001b[1;32m   1090\u001b[0m \u001b[39mreturn\u001b[39;00m \u001b[39mself\u001b[39m\u001b[39m.\u001b[39mindex\u001b[39m.\u001b[39m_get_values_for_loc(\u001b[39mself\u001b[39m, loc, label)\n",
      "File \u001b[0;32m/Library/Frameworks/Python.framework/Versions/3.11/lib/python3.11/site-packages/pandas/core/indexes/base.py:3805\u001b[0m, in \u001b[0;36mIndex.get_loc\u001b[0;34m(self, key, method, tolerance)\u001b[0m\n\u001b[1;32m   3803\u001b[0m     \u001b[39mreturn\u001b[39;00m \u001b[39mself\u001b[39m\u001b[39m.\u001b[39m_engine\u001b[39m.\u001b[39mget_loc(casted_key)\n\u001b[1;32m   3804\u001b[0m \u001b[39mexcept\u001b[39;00m \u001b[39mKeyError\u001b[39;00m \u001b[39mas\u001b[39;00m err:\n\u001b[0;32m-> 3805\u001b[0m     \u001b[39mraise\u001b[39;00m \u001b[39mKeyError\u001b[39;00m(key) \u001b[39mfrom\u001b[39;00m \u001b[39merr\u001b[39;00m\n\u001b[1;32m   3806\u001b[0m \u001b[39mexcept\u001b[39;00m \u001b[39mTypeError\u001b[39;00m:\n\u001b[1;32m   3807\u001b[0m     \u001b[39m# If we have a listlike key, _check_indexing_error will raise\u001b[39;00m\n\u001b[1;32m   3808\u001b[0m     \u001b[39m#  InvalidIndexError. Otherwise we fall through and re-raise\u001b[39;00m\n\u001b[1;32m   3809\u001b[0m     \u001b[39m#  the TypeError.\u001b[39;00m\n\u001b[1;32m   3810\u001b[0m     \u001b[39mself\u001b[39m\u001b[39m.\u001b[39m_check_indexing_error(key)\n",
      "\u001b[0;31mKeyError\u001b[0m: 'Buy_Signal'"
     ]
    }
   ],
   "source": [
    "initial_capital = 100000  # Set your initial capital\n",
    "cash = initial_capital\n",
    "position = 0  # Number of units held\n",
    "portfolio_value = []  # To store portfolio value at each timestamp\n",
    "\n",
    "for index, row in df.iterrows():\n",
    "    # Check for Buy Signal\n",
    "    if row['Buy_Signal']:\n",
    "        if cash > 0:\n",
    "            # Buy the asset using available cash\n",
    "            position = cash / row['ETH/USD_Open']\n",
    "            cash = 0\n",
    "            print(f\"Buying at {row['Timestamp']} - Price: {row['ETH/USD_Open']}, Position: {position}\")\n",
    "\n",
    "    # Check for Sell Signal\n",
    "    elif row['Sell_Signal']:\n",
    "        if position > 0:\n",
    "            # Sell the entire position\n",
    "            cash = position * row['ETH/USD_Open']\n",
    "            position = 0\n",
    "            print(f\"Selling at {row['Timestamp']} - Price: {row['ETH/USD_Open']}, Cash: {cash}\")\n",
    "\n",
    "    # Calculate portfolio value at each timestamp\n",
    "    portfolio_value.append(cash + position * row['ETH/USD_Open'])\n",
    "\n",
    "# Add portfolio_value to the DataFrame\n",
    "df['Portfolio_Value'] = portfolio_value\n"
   ]
  },
  {
   "cell_type": "markdown",
   "metadata": {},
   "source": [
    "The choice of a time frame for a momentum trading bot depends on your trading strategy, risk tolerance, and the assets you are trading. Different time frames offer different trade-offs, and there is no one-size-fits-all answer. Here are some considerations for selecting a time frame:\n",
    "\n",
    "1-Minute (or Less) Time Frame:\n",
    "- Very short time frames like 1 minute are often used by high-frequency traders (HFT) and algorithmic trading systems that execute many trades in a short time. They require low latency and advanced infrastructure.\n",
    "- High-frequency trading is associated with increased transaction costs, such as trading fees and potential slippage, and may not be suitable for all traders.\n",
    "- The price action can be more erratic, making it challenging to identify meaningful trends, and there's a risk of \"noise\" in the data.\n",
    "  \n",
    "Shorter Time Frames (5-Minute, 15-Minute, 30-Minute):\n",
    "- These time frames are often used by day traders and short-term momentum traders.\n",
    "- They allow for more trades throughout the day but still require careful risk management due to the rapid price changes.\n",
    "\n",
    "Longer Time Frames (1-Hour, 4-Hour, Daily):\n",
    "- Longer time frames are generally used by swing traders and medium-term traders.\n",
    "- Trends and patterns on these time frames tend to be more reliable, with less \"noise\" compared to shorter time frames.\n",
    "- Trades occur less frequently, and holding positions for longer periods may require more patience.\n",
    "- When choosing a time frame for a momentum trading bot, consider the following factors:\n",
    "\n",
    "Trading Style: Your trading style and objectives matter. If you want to capitalize on very short-term price movements, you might choose a shorter time frame. For longer-term trades, consider longer time frames.\n",
    "\n",
    "Asset Volatility: The volatility of the asset you're trading is crucial. Highly volatile assets might require shorter time frames to capture momentum, while less volatile assets can be traded on longer time frames.\n",
    "\n",
    "Risk Management: Shorter time frames often require tighter stop-loss orders and more frequent monitoring, so you need a robust risk management strategy.\n",
    "\n",
    "Technical Analysis: The time frame you choose should align with your technical analysis. Different time frames may show different patterns and signals.\n",
    "\n",
    "Infrastructure: High-frequency trading often demands low-latency infrastructure, including high-speed internet connections and powerful servers.\n",
    "\n",
    "Backtesting: Use backtesting to evaluate the performance of your trading strategy on historical data across various time frames. This can help you determine which time frame works best for your specific strategy."
   ]
  }
 ],
 "metadata": {
  "kernelspec": {
   "display_name": "Python 3.11.0 64-bit",
   "language": "python",
   "name": "python3"
  },
  "language_info": {
   "codemirror_mode": {
    "name": "ipython",
    "version": 3
   },
   "file_extension": ".py",
   "mimetype": "text/x-python",
   "name": "python",
   "nbconvert_exporter": "python",
   "pygments_lexer": "ipython3",
   "version": "3.11.0"
  },
  "orig_nbformat": 4,
  "vscode": {
   "interpreter": {
    "hash": "aee8b7b246df8f9039afb4144a1f6fd8d2ca17a180786b69acc140d282b71a49"
   }
  }
 },
 "nbformat": 4,
 "nbformat_minor": 2
}
